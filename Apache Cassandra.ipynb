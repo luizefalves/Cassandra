{
 "cells": [
  {
   "cell_type": "markdown",
   "metadata": {},
   "source": [
    "# Parte I. ETL para pré-processamento dos arquivos."
   ]
  },
  {
   "cell_type": "markdown",
   "metadata": {},
   "source": [
    "#### Importação das bibliotecas:"
   ]
  },
  {
   "cell_type": "code",
   "execution_count": 1,
   "metadata": {},
   "outputs": [],
   "source": [
    "import pandas as pd\n",
    "import cassandra\n",
    "import re\n",
    "import os\n",
    "import glob\n",
    "import numpy as np\n",
    "import json\n",
    "import csv"
   ]
  },
  {
   "cell_type": "markdown",
   "metadata": {},
   "source": [
    "#### Criação de uma lista de filepaths para processar a tabela original em csv"
   ]
  },
  {
   "cell_type": "code",
   "execution_count": 2,
   "metadata": {},
   "outputs": [],
   "source": [
    "\n",
    "# Consulta do diretório atual, adicionando a string correspondente ao subdiretório que contém os arquivos\n",
    "filepath = os.getcwd() + '/event_data'\n",
    "\n",
    "# Um loop para criar lista de arquivos e coletar seus endereços\n",
    "for root, dirs, files in os.walk(filepath):    \n",
    "    # Junção do diretório raiz com a variável filepath e o nome dos arquivos  \n",
    "    file_path_list = glob.glob(os.path.join(root,'*'))\n",
    "    #print(file_path_list)"
   ]
  },
  {
   "cell_type": "markdown",
   "metadata": {},
   "source": [
    "#### Processamento dos arquivos para criar o csv que será usado pelas \"tabelas\" do Apache Cassandra"
   ]
  },
  {
   "cell_type": "code",
   "execution_count": 3,
   "metadata": {},
   "outputs": [],
   "source": [
    "# Iniciando uma lista vazia das linhas que serão geradas a partir de cada arquivo\n",
    "full_data_rows_list = [] \n",
    "    \n",
    "# Para cada endereço (filepath) na lista de endereços dos arquivos (file_path_list) : \n",
    "for f in file_path_list:\n",
    "\n",
    "# Lendo o arquivo csv:\n",
    "    with open(f, 'r', encoding = 'utf8', newline='') as csvfile: \n",
    "        # criando um objeto csv reader:\n",
    "        csvreader = csv.reader(csvfile) \n",
    "        next(csvreader)\n",
    "        \n",
    " # Extraindo cada linha, uma a uma e anexando-as:\n",
    "        for line in csvreader:\n",
    "            #print(line)\n",
    "            full_data_rows_list.append(line) \n",
    "            \n",
    "\n",
    "# Criando um dialeto csv personalizado: \n",
    "csv.register_dialect('myDialect', quoting=csv.QUOTE_ALL, skipinitialspace=True)\n",
    "\n",
    "# Criando uma amostra em csv que exclui algumas colunas e será usada para inserir os dados \n",
    "# nas tabelas do Cassandra:\n",
    "\n",
    "with open('event_datafile_new.csv', 'w', encoding = 'utf8', newline='') as f:\n",
    "    writer = csv.writer(f, dialect='myDialect')\n",
    "    writer.writerow(['artist','firstName','gender','itemInSession','lastName','length',\\\n",
    "                'level','location','sessionId','song','userId'])\n",
    "    for row in full_data_rows_list:\n",
    "        if (row[0] == ''):\n",
    "            continue\n",
    "        writer.writerow((row[0], row[2], row[3], row[4], row[5], row[6], row[7], row[8], row[12], row[13], row[16]))\n"
   ]
  },
  {
   "cell_type": "code",
   "execution_count": 4,
   "metadata": {},
   "outputs": [
    {
     "name": "stdout",
     "output_type": "stream",
     "text": [
      "6821\n"
     ]
    }
   ],
   "source": [
    "# Conferindo o número de linhas do novo arquivo: \n",
    "with open('event_datafile_new.csv', 'r', encoding = 'utf8') as f:\n",
    "    print(sum(1 for line in f))"
   ]
  },
  {
   "cell_type": "markdown",
   "metadata": {},
   "source": [
    "# Parte II:\n",
    "\n",
    "##  O arquivo event_datafile_new.csv contém as seguintes colunas:\n",
    "\n",
    "- artist \n",
    "- firstName of user\n",
    "- gender of user\n",
    "- item number in session\n",
    "- last name of user\n",
    "- length of the song\n",
    "- level (paid or free song)\n",
    "- location of the user\n",
    "- sessionId\n",
    "- song title\n",
    "- userId\n",
    "\n"
   ]
  },
  {
   "cell_type": "markdown",
   "metadata": {},
   "source": [
    "## Inicialização e configuração do Cluster do Apache Cassandra:"
   ]
  },
  {
   "cell_type": "markdown",
   "metadata": {},
   "source": [
    "#### Criando o  Cluster"
   ]
  },
  {
   "cell_type": "code",
   "execution_count": 7,
   "metadata": {},
   "outputs": [],
   "source": [
    "# Estabelecendo uma conexão com uma instância Cassandra no host local:\n",
    "from cassandra.cluster import Cluster\n",
    "cluster = Cluster()\n",
    "\n",
    "# Para estabelecer uma conexão e começar a executar as queries, precisamos de uma sessão:\n",
    "session = cluster.connect()"
   ]
  },
  {
   "cell_type": "markdown",
   "metadata": {},
   "source": [
    "#### Criando o Keyspace"
   ]
  },
  {
   "cell_type": "code",
   "execution_count": 21,
   "metadata": {},
   "outputs": [],
   "source": [
    "'''\n",
    "As propriedades da CQL keyspace terão os seguintes valores:\n",
    "\n",
    "Classe Simple Strategy: É a estratégia de replicação onde todo o cluster tem o mesmo fator de replicação\n",
    "Fator de Replicação 1 : O numero total e réplicas ao logo do cluster é igual a 1.\n",
    "\n",
    "'''\n",
    "\n",
    "try:\n",
    "    session.execute(\"\"\"CREATE KEYSPACE IF NOT EXISTS project2\n",
    "    WITH REPLICATION =\n",
    "    {'class' : 'SimpleStrategy', 'replication_factor' : 1}\"\"\")\n",
    "\n",
    "except Exception as e:\n",
    "    print(e)"
   ]
  },
  {
   "cell_type": "markdown",
   "metadata": {},
   "source": [
    "#### Definindo o Keyspace"
   ]
  },
  {
   "cell_type": "code",
   "execution_count": 22,
   "metadata": {},
   "outputs": [],
   "source": [
    "try:\n",
    "    session.set_keyspace('project2')\n",
    "except Exception as e:\n",
    "    print(e)\n"
   ]
  },
  {
   "cell_type": "markdown",
   "metadata": {},
   "source": [
    "## Testando o Banco de Dados:"
   ]
  },
  {
   "cell_type": "markdown",
   "metadata": {},
   "source": [
    "####  Obs: No Apache Cassandra modelamos a família de colunas (\"tabelas\") com base nas requisições que desejamos rodar."
   ]
  },
  {
   "cell_type": "markdown",
   "metadata": {},
   "source": [
    "### 1. - Seleção do artista, música e duração no histórico de músicas que foram ouvidas na sessionID = 338"
   ]
  },
  {
   "cell_type": "code",
   "execution_count": 23,
   "metadata": {},
   "outputs": [],
   "source": [
    "query = \"CREATE TABLE IF NOT EXISTS songinfo_by_session_by_item\"\n",
    "query = query + \"\"\"(\n",
    "                    sessionId int,\n",
    "                    iteminSession int,\n",
    "                    artist text,\n",
    "                    song text,\n",
    "                    length float,\n",
    "                    PRIMARY KEY (sessionId, iteminSession)\n",
    "                    )\"\"\"\n",
    "try:\n",
    "    session.execute(query)\n",
    "except Exception as e:\n",
    "    print(e)\n",
    "\n",
    "                    "
   ]
  },
  {
   "cell_type": "code",
   "execution_count": 24,
   "metadata": {},
   "outputs": [],
   "source": [
    "file = 'event_datafile_new.csv'\n",
    "\n",
    "with open(file, encoding = 'utf8') as f:\n",
    "    csvreader = csv.reader(f)\n",
    "    next(csvreader) # pula cabeçalho\n",
    "    for line in csvreader:\n",
    "\n",
    "        query = \"INSERT INTO songinfo_by_session_by_item (sessionId, iteminSession, artist, song,length)\"\n",
    "        query = query + \"VALUES (%s,%s,%s,%s, %s)\"\n",
    "        ## Relaciona qual elemento da coluna deve ser relacionado com cada coluna na declaração INSERT\n",
    "        session.execute(query, (int(line[8]), int(line[3]), str(line[0]), str(line[9]), float(line[5])))"
   ]
  },
  {
   "cell_type": "markdown",
   "metadata": {},
   "source": [
    "#### Fazendo um SELECT para certificar que os dados foram inseridos em cada uma das tabelas:"
   ]
  },
  {
   "cell_type": "code",
   "execution_count": 25,
   "metadata": {
    "scrolled": true
   },
   "outputs": [
    {
     "name": "stdout",
     "output_type": "stream",
     "text": [
      "Faithless Music Matters (Mark Knight Dub) 495.30731201171875\n"
     ]
    }
   ],
   "source": [
    "query = \"SELECT artist, song, length FROM project2.songinfo_by_session_by_item \\\n",
    "            WHERE sessionId = 338 AND iteminSession = 4\"\n",
    "try:\n",
    "    rows = session.execute(query)\n",
    "except Exception as e:\n",
    "    print(e)\n",
    "\n",
    "for row in rows:\n",
    "    print(row.artist, row.song, row.length)  "
   ]
  },
  {
   "cell_type": "markdown",
   "metadata": {},
   "source": [
    "### 2. - Para userid = 10 e sessionid = 182, devolva o nome do artista, a música ordenada por itemInSession e o usuário, com primeiro e último nome"
   ]
  },
  {
   "cell_type": "code",
   "execution_count": 29,
   "metadata": {},
   "outputs": [],
   "source": [
    "query = \"CREATE TABLE IF NOT EXISTS songinfo_by_user_by_session\"\n",
    "query = query + \"\"\"(\n",
    "                    userId int,\n",
    "                    sessionId int,\n",
    "                    itemInSession int,\n",
    "                    artist text,\n",
    "                    song text,\n",
    "                    firstName text,\n",
    "                    lastName text,\n",
    "                    PRIMARY KEY ((userId), sessionId, itemInSession))\n",
    "                    WITH CLUSTERING ORDER BY (sessionId ASC, iteminSession ASC);\"\"\"\n",
    "try:\n",
    "    session.execute(query)\n",
    "except Exception as e:\n",
    "    print(e)"
   ]
  },
  {
   "cell_type": "code",
   "execution_count": 30,
   "metadata": {},
   "outputs": [],
   "source": [
    "file = 'event_datafile_new.csv'\n",
    "\n",
    "with open(file, encoding = 'utf8') as f:\n",
    "    csvreader = csv.reader(f)\n",
    "    next(csvreader) # pula cabeçalho\n",
    "    for line in csvreader:\n",
    "        query1 = \"INSERT INTO songinfo_by_user_by_session (userId, sessionId, iteminSession, artist, song, firstName, lastName)\"\n",
    "        query1 = query1 + \" VALUES (%s, %s, %s, %s, %s, %s, %s)\"\n",
    "        session.execute(query1, (int(line[10]),int(line[8]),int(line[3]), str(line[0]), str(line[9]), str(line[1]), str(line[4])))"
   ]
  },
  {
   "cell_type": "code",
   "execution_count": 31,
   "metadata": {},
   "outputs": [
    {
     "name": "stdout",
     "output_type": "stream",
     "text": [
      "Down To The Bone Keep On Keepin' On Sylvie Cruz\n",
      "Three Drives Greece 2000 Sylvie Cruz\n",
      "Sebastien Tellier Kilometer Sylvie Cruz\n",
      "Lonnie Gordon Catch You Baby (Steve Pitron & Max Sanna Radio Edit) Sylvie Cruz\n"
     ]
    }
   ],
   "source": [
    "query1 = \"SELECT artist, song, firstName, lastName FROM songinfo_by_user_by_session \\\n",
    "            WHERE userId = 10 AND sessionId = 182\"\n",
    "try:\n",
    "    rows = session.execute(query1)\n",
    "except Exception as e:\n",
    "    print(e)\n",
    "    \n",
    "for row in rows:\n",
    "    print (row.artist, row.song, row.firstname, row.lastname)"
   ]
  },
  {
   "cell_type": "markdown",
   "metadata": {},
   "source": [
    "### 3.- Imprima o nome e sobrenome de todos os usuários que ouviram a música \"All Hands Against His Own\" :"
   ]
  },
  {
   "cell_type": "code",
   "execution_count": 32,
   "metadata": {},
   "outputs": [],
   "source": [
    "query2 = \"CREATE TABLE IF NOT EXISTS userinfo_by_song\"\n",
    "query2 = query2 + \"\"\"(userid int, firstName text, \n",
    "                        lastName text, song text, \n",
    "                        PRIMARY KEY ((song),userid)\n",
    "                        )\"\"\"\n",
    "try:\n",
    "    session.execute(query2)\n",
    "except Exception as e:\n",
    "    print(e)\n",
    "\n",
    "                    "
   ]
  },
  {
   "cell_type": "code",
   "execution_count": 33,
   "metadata": {},
   "outputs": [],
   "source": [
    "file = 'event_datafile_new.csv'\n",
    "\n",
    "with open(file, encoding = 'utf8') as f:\n",
    "    csvreader = csv.reader(f)\n",
    "    next(csvreader) # pula cabeçalho\n",
    "    for line in csvreader:\n",
    "        query2 = \"INSERT INTO userinfo_by_song (userid, firstName, lastName, song)\"\n",
    "        query2 = query2 + \" VALUES (%s, %s, %s, %s)\"\n",
    "        session.execute(query2, (int(line[10]),str(line[1]),str(line[4]),str(line[9])))"
   ]
  },
  {
   "cell_type": "code",
   "execution_count": 34,
   "metadata": {},
   "outputs": [
    {
     "name": "stdout",
     "output_type": "stream",
     "text": [
      "Jacqueline Lynch\n",
      "Tegan Levine\n",
      "Sara Johnson\n"
     ]
    }
   ],
   "source": [
    "query2 = \"SELECT firstName, lastName FROM userinfo_by_song WHERE song = 'All Hands Against His Own'\"\n",
    "try:\n",
    "    rows = session.execute(query2)\n",
    "except Exception as e:\n",
    "    print(e)\n",
    "    \n",
    "for row in rows:\n",
    "    print (row.firstname, row.lastname)"
   ]
  },
  {
   "cell_type": "markdown",
   "metadata": {},
   "source": [
    "### Encerramento das tabelas"
   ]
  },
  {
   "cell_type": "code",
   "execution_count": 35,
   "metadata": {},
   "outputs": [],
   "source": [
    "query = \"drop table question1\"\n",
    "try:\n",
    "    rows = session.execute(query)\n",
    "except Exception as e:\n",
    "    print(e)\n",
    "\n",
    "query = \"drop table question2\"\n",
    "try:\n",
    "    rows = session.execute(query1)\n",
    "except Exception as e:\n",
    "    print(e)\n",
    "\n",
    "    \n",
    "query = \"drop table question3\"\n",
    "try:\n",
    "    rows = session.execute(query2)\n",
    "except Exception as e:\n",
    "    print(e)"
   ]
  },
  {
   "cell_type": "markdown",
   "metadata": {},
   "source": [
    "### Finalização da sessão e da conexão com o cluster¶"
   ]
  },
  {
   "cell_type": "code",
   "execution_count": 36,
   "metadata": {},
   "outputs": [],
   "source": [
    "session.shutdown()\n",
    "cluster.shutdown()"
   ]
  }
 ],
 "metadata": {
  "kernelspec": {
   "display_name": "Python 3",
   "language": "python",
   "name": "python3"
  },
  "language_info": {
   "codemirror_mode": {
    "name": "ipython",
    "version": 3
   },
   "file_extension": ".py",
   "mimetype": "text/x-python",
   "name": "python",
   "nbconvert_exporter": "python",
   "pygments_lexer": "ipython3",
   "version": "3.7.7"
  }
 },
 "nbformat": 4,
 "nbformat_minor": 4
}
